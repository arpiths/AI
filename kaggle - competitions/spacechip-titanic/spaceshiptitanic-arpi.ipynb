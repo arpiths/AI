{
 "cells": [
  {
   "cell_type": "code",
   "execution_count": 1,
   "id": "aefd2cd4",
   "metadata": {
    "_cell_guid": "b1076dfc-b9ad-4769-8c92-a6c4dae69d19",
    "_uuid": "8f2839f25d086af736a60e9eeb907d3b93b6e0e5",
    "execution": {
     "iopub.execute_input": "2022-03-08T17:27:36.992718Z",
     "iopub.status.busy": "2022-03-08T17:27:36.992037Z",
     "iopub.status.idle": "2022-03-08T17:27:37.004249Z",
     "shell.execute_reply": "2022-03-08T17:27:37.003417Z",
     "shell.execute_reply.started": "2022-03-08T17:24:45.822331Z"
    },
    "papermill": {
     "duration": 0.045236,
     "end_time": "2022-03-08T17:27:37.004425",
     "exception": false,
     "start_time": "2022-03-08T17:27:36.959189",
     "status": "completed"
    },
    "tags": []
   },
   "outputs": [
    {
     "name": "stdout",
     "output_type": "stream",
     "text": [
      "/kaggle/input/spaceship-titanic/sample_submission.csv\n",
      "/kaggle/input/spaceship-titanic/train.csv\n",
      "/kaggle/input/spaceship-titanic/test.csv\n"
     ]
    }
   ],
   "source": [
    "# This Python 3 environment comes with many helpful analytics libraries installed\n",
    "# It is defined by the kaggle/python Docker image: https://github.com/kaggle/docker-python\n",
    "# For example, here's several helpful packages to load\n",
    "\n",
    "import numpy as np # linear algebra\n",
    "import pandas as pd # data processing, CSV file I/O (e.g. pd.read_csv)\n",
    "\n",
    "# Input data files are available in the read-only \"../input/\" directory\n",
    "# For example, running this (by clicking run or pressing Shift+Enter) will list all files under the input directory\n",
    "\n",
    "import os\n",
    "for dirname, _, filenames in os.walk('/kaggle/input'):\n",
    "    for filename in filenames:\n",
    "        print(os.path.join(dirname, filename))\n",
    "\n",
    "# You can write up to 20GB to the current directory (/kaggle/working/) that gets preserved as output when you create a version using \"Save & Run All\" \n",
    "# You can also write temporary files to /kaggle/temp/, but they won't be saved outside of the current session"
   ]
  },
  {
   "cell_type": "code",
   "execution_count": 2,
   "id": "87f04438",
   "metadata": {
    "execution": {
     "iopub.execute_input": "2022-03-08T17:27:37.052710Z",
     "iopub.status.busy": "2022-03-08T17:27:37.051099Z",
     "iopub.status.idle": "2022-03-08T17:27:37.149523Z",
     "shell.execute_reply": "2022-03-08T17:27:37.148902Z",
     "shell.execute_reply.started": "2022-03-08T17:24:45.846521Z"
    },
    "papermill": {
     "duration": 0.122835,
     "end_time": "2022-03-08T17:27:37.149687",
     "exception": false,
     "start_time": "2022-03-08T17:27:37.026852",
     "status": "completed"
    },
    "tags": []
   },
   "outputs": [],
   "source": [
    "train_data=pd.read_csv('/kaggle/input/spaceship-titanic/train.csv')\n",
    "test_data=pd.read_csv('/kaggle/input/spaceship-titanic/test.csv')"
   ]
  },
  {
   "cell_type": "code",
   "execution_count": 3,
   "id": "077c796d",
   "metadata": {
    "execution": {
     "iopub.execute_input": "2022-03-08T17:27:37.203540Z",
     "iopub.status.busy": "2022-03-08T17:27:37.202686Z",
     "iopub.status.idle": "2022-03-08T17:27:37.253441Z",
     "shell.execute_reply": "2022-03-08T17:27:37.254020Z",
     "shell.execute_reply.started": "2022-03-08T17:24:45.910177Z"
    },
    "papermill": {
     "duration": 0.082465,
     "end_time": "2022-03-08T17:27:37.254245",
     "exception": false,
     "start_time": "2022-03-08T17:27:37.171780",
     "status": "completed"
    },
    "tags": []
   },
   "outputs": [],
   "source": [
    "train_data[['cabin-a', 'cabin-b', 'cabin-c']] = train_data['Cabin'].str.split('/',expand=True)\n",
    "test_data[['cabin-a', 'cabin-b', 'cabin-c']] = test_data['Cabin'].str.split('/',expand=True)"
   ]
  },
  {
   "cell_type": "code",
   "execution_count": 4,
   "id": "4b1805a3",
   "metadata": {
    "execution": {
     "iopub.execute_input": "2022-03-08T17:27:37.306872Z",
     "iopub.status.busy": "2022-03-08T17:27:37.300355Z",
     "iopub.status.idle": "2022-03-08T17:27:37.323467Z",
     "shell.execute_reply": "2022-03-08T17:27:37.322852Z",
     "shell.execute_reply.started": "2022-03-08T17:24:45.948563Z"
    },
    "papermill": {
     "duration": 0.046931,
     "end_time": "2022-03-08T17:27:37.323753",
     "exception": false,
     "start_time": "2022-03-08T17:27:37.276822",
     "status": "completed"
    },
    "tags": []
   },
   "outputs": [],
   "source": [
    "data_columns = train_data.columns\n",
    "\n",
    "X = train_data.drop(\"Transported\",axis=1)\n",
    "y = train_data[\"Transported\"]\n",
    "X_test = test_data\n",
    "\n",
    "drop_feats=['PassengerId','Name','Cabin']\n",
    "X = X.drop(drop_feats, axis=1)\n",
    "X_test = X_test.drop(drop_feats,axis=1)"
   ]
  },
  {
   "cell_type": "code",
   "execution_count": 5,
   "id": "1e39dfd9",
   "metadata": {
    "execution": {
     "iopub.execute_input": "2022-03-08T17:27:37.376733Z",
     "iopub.status.busy": "2022-03-08T17:27:37.375953Z",
     "iopub.status.idle": "2022-03-08T17:27:38.568138Z",
     "shell.execute_reply": "2022-03-08T17:27:38.569023Z",
     "shell.execute_reply.started": "2022-03-08T17:24:47.145837Z"
    },
    "papermill": {
     "duration": 1.22225,
     "end_time": "2022-03-08T17:27:38.569298",
     "exception": false,
     "start_time": "2022-03-08T17:27:37.347048",
     "status": "completed"
    },
    "tags": []
   },
   "outputs": [],
   "source": [
    "from sklearn.model_selection import train_test_split\n",
    "X_train,X_valid,y_train,y_valid= train_test_split(X,y,test_size=0.2)"
   ]
  },
  {
   "cell_type": "markdown",
   "id": "83e2a21f",
   "metadata": {
    "papermill": {
     "duration": 0.023289,
     "end_time": "2022-03-08T17:27:38.620596",
     "exception": false,
     "start_time": "2022-03-08T17:27:38.597307",
     "status": "completed"
    },
    "tags": []
   },
   "source": [
    "### boolean vals need imputing -->  cryosleep, vip,\n",
    "### break cabin into 3 cols    --> cabin-a, cabin-b,cabin-c\n",
    "### categorical variables      --> homeplanet,destination, homeplanet\n"
   ]
  },
  {
   "cell_type": "code",
   "execution_count": 6,
   "id": "663a7c93",
   "metadata": {
    "execution": {
     "iopub.execute_input": "2022-03-08T17:27:38.672079Z",
     "iopub.status.busy": "2022-03-08T17:27:38.671110Z",
     "iopub.status.idle": "2022-03-08T17:27:38.674795Z",
     "shell.execute_reply": "2022-03-08T17:27:38.675504Z",
     "shell.execute_reply.started": "2022-03-08T17:24:50.563412Z"
    },
    "papermill": {
     "duration": 0.032505,
     "end_time": "2022-03-08T17:27:38.675770",
     "exception": false,
     "start_time": "2022-03-08T17:27:38.643265",
     "status": "completed"
    },
    "tags": []
   },
   "outputs": [
    {
     "name": "stdout",
     "output_type": "stream",
     "text": [
      "['HomePlanet', 'CryoSleep', 'Destination', 'VIP', 'cabin-a', 'cabin-b', 'cabin-c']\n"
     ]
    }
   ],
   "source": [
    "s = (X_train.dtypes=='object')\n",
    "object_cols= list(s[s].index)\n",
    "print(object_cols)"
   ]
  },
  {
   "cell_type": "code",
   "execution_count": 7,
   "id": "51cc2e56",
   "metadata": {
    "execution": {
     "iopub.execute_input": "2022-03-08T17:27:38.723353Z",
     "iopub.status.busy": "2022-03-08T17:27:38.722350Z",
     "iopub.status.idle": "2022-03-08T17:27:38.740805Z",
     "shell.execute_reply": "2022-03-08T17:27:38.741309Z",
     "shell.execute_reply.started": "2022-03-08T17:24:53.537573Z"
    },
    "papermill": {
     "duration": 0.043319,
     "end_time": "2022-03-08T17:27:38.741496",
     "exception": false,
     "start_time": "2022-03-08T17:27:38.698177",
     "status": "completed"
    },
    "tags": []
   },
   "outputs": [
    {
     "name": "stdout",
     "output_type": "stream",
     "text": [
      "cats ['HomePlanet', 'CryoSleep', 'Destination', 'VIP', 'cabin-c']\n",
      "nums ['Age', 'RoomService', 'FoodCourt', 'ShoppingMall', 'Spa', 'VRDeck']\n"
     ]
    }
   ],
   "source": [
    "cat_cols = [o for o in object_cols if X_train[o].dtype=='object' and (len(X_train[o].unique())>0 and len(X_train[o].unique())<5)]\n",
    "num_cols = [o for o in X_train.columns if X_train[o].dtype=='float64' or X_train[o].dtype=='int64']\n",
    "print(\"cats\",cat_cols)\n",
    "print(\"nums\",num_cols)"
   ]
  },
  {
   "cell_type": "code",
   "execution_count": 8,
   "id": "9d8c0dc0",
   "metadata": {
    "execution": {
     "iopub.execute_input": "2022-03-08T17:27:38.790356Z",
     "iopub.status.busy": "2022-03-08T17:27:38.789639Z",
     "iopub.status.idle": "2022-03-08T17:27:39.137060Z",
     "shell.execute_reply": "2022-03-08T17:27:39.136032Z",
     "shell.execute_reply.started": "2022-03-08T17:24:59.338086Z"
    },
    "papermill": {
     "duration": 0.374642,
     "end_time": "2022-03-08T17:27:39.137227",
     "exception": false,
     "start_time": "2022-03-08T17:27:38.762585",
     "status": "completed"
    },
    "tags": []
   },
   "outputs": [],
   "source": [
    "from sklearn.pipeline import Pipeline\n",
    "from sklearn.metrics import mean_absolute_error\n",
    "from sklearn.impute import SimpleImputer\n",
    "from sklearn.model_selection import cross_val_score\n",
    "from sklearn.compose import ColumnTransformer\n",
    "from sklearn.ensemble import RandomForestRegressor\n",
    "from sklearn.preprocessing import OneHotEncoder\n",
    "from xgboost import XGBRegressor"
   ]
  },
  {
   "cell_type": "code",
   "execution_count": 9,
   "id": "f6c162e9",
   "metadata": {
    "execution": {
     "iopub.execute_input": "2022-03-08T17:27:39.187123Z",
     "iopub.status.busy": "2022-03-08T17:27:39.183606Z",
     "iopub.status.idle": "2022-03-08T17:27:39.190110Z",
     "shell.execute_reply": "2022-03-08T17:27:39.189529Z",
     "shell.execute_reply.started": "2022-03-08T17:25:01.681493Z"
    },
    "papermill": {
     "duration": 0.031433,
     "end_time": "2022-03-08T17:27:39.190256",
     "exception": false,
     "start_time": "2022-03-08T17:27:39.158823",
     "status": "completed"
    },
    "tags": []
   },
   "outputs": [],
   "source": [
    "numerical_transformer = SimpleImputer(strategy  = \"constant\")\n",
    "\n",
    "categorical_transformer = Pipeline(steps=[\n",
    "    ('imputer',SimpleImputer(strategy='most_frequent')),\n",
    "    ('onehot',OneHotEncoder(handle_unknown='ignore'))\n",
    "])\n",
    "\n",
    "preprocess =ColumnTransformer(\n",
    "    transformers=[\n",
    "    ('num',numerical_transformer,num_cols),\n",
    "    ('cat',categorical_transformer,cat_cols)\n",
    "])\n"
   ]
  },
  {
   "cell_type": "code",
   "execution_count": 10,
   "id": "cfae8b71",
   "metadata": {
    "execution": {
     "iopub.execute_input": "2022-03-08T17:27:39.238079Z",
     "iopub.status.busy": "2022-03-08T17:27:39.237358Z",
     "iopub.status.idle": "2022-03-08T17:27:39.240722Z",
     "shell.execute_reply": "2022-03-08T17:27:39.240164Z",
     "shell.execute_reply.started": "2022-03-08T17:25:02.577924Z"
    },
    "papermill": {
     "duration": 0.029402,
     "end_time": "2022-03-08T17:27:39.240879",
     "exception": false,
     "start_time": "2022-03-08T17:27:39.211477",
     "status": "completed"
    },
    "tags": []
   },
   "outputs": [],
   "source": [
    "# help(ColumnTransformer)\n",
    "model= RandomForestRegressor(n_estimators=1000, random_state=0)"
   ]
  },
  {
   "cell_type": "code",
   "execution_count": 11,
   "id": "f5987593",
   "metadata": {
    "execution": {
     "iopub.execute_input": "2022-03-08T17:27:39.290139Z",
     "iopub.status.busy": "2022-03-08T17:27:39.289432Z",
     "iopub.status.idle": "2022-03-08T17:27:39.292457Z",
     "shell.execute_reply": "2022-03-08T17:27:39.291938Z",
     "shell.execute_reply.started": "2022-03-08T17:25:05.707248Z"
    },
    "papermill": {
     "duration": 0.0306,
     "end_time": "2022-03-08T17:27:39.292589",
     "exception": false,
     "start_time": "2022-03-08T17:27:39.261989",
     "status": "completed"
    },
    "tags": []
   },
   "outputs": [],
   "source": [
    "pipe_fin= Pipeline(steps=[\n",
    "    ('preprocess',preprocess),\n",
    "    ('model',model)\n",
    "])"
   ]
  },
  {
   "cell_type": "code",
   "execution_count": 12,
   "id": "791c041e",
   "metadata": {
    "execution": {
     "iopub.execute_input": "2022-03-08T17:27:39.340971Z",
     "iopub.status.busy": "2022-03-08T17:27:39.338833Z",
     "iopub.status.idle": "2022-03-08T17:27:39.344271Z",
     "shell.execute_reply": "2022-03-08T17:27:39.343581Z"
    },
    "papermill": {
     "duration": 0.030415,
     "end_time": "2022-03-08T17:27:39.344431",
     "exception": false,
     "start_time": "2022-03-08T17:27:39.314016",
     "status": "completed"
    },
    "tags": []
   },
   "outputs": [],
   "source": [
    "# pipe_fin.fit(X_train,y_train)"
   ]
  },
  {
   "cell_type": "code",
   "execution_count": 13,
   "id": "99fe6e37",
   "metadata": {
    "execution": {
     "iopub.execute_input": "2022-03-08T17:27:39.391083Z",
     "iopub.status.busy": "2022-03-08T17:27:39.390431Z",
     "iopub.status.idle": "2022-03-08T17:27:39.393788Z",
     "shell.execute_reply": "2022-03-08T17:27:39.394386Z"
    },
    "papermill": {
     "duration": 0.028532,
     "end_time": "2022-03-08T17:27:39.394573",
     "exception": false,
     "start_time": "2022-03-08T17:27:39.366041",
     "status": "completed"
    },
    "tags": []
   },
   "outputs": [],
   "source": [
    "# pred = pipe_fin.predict(X_valid)"
   ]
  },
  {
   "cell_type": "code",
   "execution_count": 14,
   "id": "f819d77f",
   "metadata": {
    "execution": {
     "iopub.execute_input": "2022-03-08T17:27:39.444015Z",
     "iopub.status.busy": "2022-03-08T17:27:39.443311Z",
     "iopub.status.idle": "2022-03-08T17:27:39.447263Z",
     "shell.execute_reply": "2022-03-08T17:27:39.447886Z"
    },
    "papermill": {
     "duration": 0.029318,
     "end_time": "2022-03-08T17:27:39.448083",
     "exception": false,
     "start_time": "2022-03-08T17:27:39.418765",
     "status": "completed"
    },
    "tags": []
   },
   "outputs": [],
   "source": [
    "# maes=[]\n",
    "# for i in range (0,10,1):\n",
    "#     pred_1= 1*(pred>(i/10))\n",
    "#     mae= mean_absolute_error(pred_1,y_valid)\n",
    "#     maes.append(mae)\n",
    "    \n",
    "\n",
    "# thresh = maes.index(min(maes))"
   ]
  },
  {
   "cell_type": "code",
   "execution_count": 15,
   "id": "642deaa5",
   "metadata": {
    "execution": {
     "iopub.execute_input": "2022-03-08T17:27:39.498334Z",
     "iopub.status.busy": "2022-03-08T17:27:39.497464Z",
     "iopub.status.idle": "2022-03-08T17:27:39.500752Z",
     "shell.execute_reply": "2022-03-08T17:27:39.500066Z"
    },
    "papermill": {
     "duration": 0.030739,
     "end_time": "2022-03-08T17:27:39.500913",
     "exception": false,
     "start_time": "2022-03-08T17:27:39.470174",
     "status": "completed"
    },
    "tags": []
   },
   "outputs": [],
   "source": [
    "# thresh"
   ]
  },
  {
   "cell_type": "markdown",
   "id": "a02b8ea9",
   "metadata": {
    "papermill": {
     "duration": 0.021442,
     "end_time": "2022-03-08T17:27:39.544561",
     "exception": false,
     "start_time": "2022-03-08T17:27:39.523119",
     "status": "completed"
    },
    "tags": []
   },
   "source": [
    "#### CROSS-VALIDATION"
   ]
  },
  {
   "cell_type": "markdown",
   "id": "6b10d4f2",
   "metadata": {
    "papermill": {
     "duration": 0.021522,
     "end_time": "2022-03-08T17:27:39.587950",
     "exception": false,
     "start_time": "2022-03-08T17:27:39.566428",
     "status": "completed"
    },
    "tags": []
   },
   "source": [
    "score= -1 * cross_val_score(pipe_fin,X,y,\n",
    "                          cv=4,\n",
    "                          scoring='neg_mean_absolute_error')\n",
    "print(score)"
   ]
  },
  {
   "cell_type": "code",
   "execution_count": 16,
   "id": "15a199bc",
   "metadata": {
    "execution": {
     "iopub.execute_input": "2022-03-08T17:27:39.643031Z",
     "iopub.status.busy": "2022-03-08T17:27:39.642362Z",
     "iopub.status.idle": "2022-03-08T17:28:04.508752Z",
     "shell.execute_reply": "2022-03-08T17:28:04.509226Z",
     "shell.execute_reply.started": "2022-03-08T17:26:27.285828Z"
    },
    "papermill": {
     "duration": 24.899472,
     "end_time": "2022-03-08T17:28:04.509398",
     "exception": false,
     "start_time": "2022-03-08T17:27:39.609926",
     "status": "completed"
    },
    "tags": []
   },
   "outputs": [
    {
     "data": {
      "text/plain": [
       "Pipeline(steps=[('preprocess',\n",
       "                 ColumnTransformer(transformers=[('num',\n",
       "                                                  SimpleImputer(strategy='constant'),\n",
       "                                                  ['Age', 'RoomService',\n",
       "                                                   'FoodCourt', 'ShoppingMall',\n",
       "                                                   'Spa', 'VRDeck']),\n",
       "                                                 ('cat',\n",
       "                                                  Pipeline(steps=[('imputer',\n",
       "                                                                   SimpleImputer(strategy='most_frequent')),\n",
       "                                                                  ('onehot',\n",
       "                                                                   OneHotEncoder(handle_unknown='ignore'))]),\n",
       "                                                  ['HomePlanet', 'CryoSleep',\n",
       "                                                   'Destination', 'VIP',\n",
       "                                                   'cabin-c'])])),\n",
       "                ('model',\n",
       "                 RandomForestRegressor(n_estimators=1000, random_state=0))])"
      ]
     },
     "execution_count": 16,
     "metadata": {},
     "output_type": "execute_result"
    }
   ],
   "source": [
    "pipe_fin.fit(X,y)"
   ]
  },
  {
   "cell_type": "code",
   "execution_count": 17,
   "id": "3539e1a6",
   "metadata": {
    "execution": {
     "iopub.execute_input": "2022-03-08T17:28:04.564499Z",
     "iopub.status.busy": "2022-03-08T17:28:04.563297Z",
     "iopub.status.idle": "2022-03-08T17:28:05.259039Z",
     "shell.execute_reply": "2022-03-08T17:28:05.258376Z",
     "shell.execute_reply.started": "2022-03-08T17:26:55.603691Z"
    },
    "papermill": {
     "duration": 0.727664,
     "end_time": "2022-03-08T17:28:05.259206",
     "exception": false,
     "start_time": "2022-03-08T17:28:04.531542",
     "status": "completed"
    },
    "tags": []
   },
   "outputs": [],
   "source": [
    "res = pipe_fin.predict(X_test)\n",
    "res = res>0.5\n",
    "output= pd.DataFrame({'PassengerId':test_data['PassengerId'],\n",
    "                     'Transported':res})\n",
    "output.to_csv('submission.csv',index=False)\n",
    "# output"
   ]
  },
  {
   "cell_type": "code",
   "execution_count": null,
   "id": "908df4bc",
   "metadata": {
    "papermill": {
     "duration": 0.02282,
     "end_time": "2022-03-08T17:28:05.304693",
     "exception": false,
     "start_time": "2022-03-08T17:28:05.281873",
     "status": "completed"
    },
    "tags": []
   },
   "outputs": [],
   "source": []
  }
 ],
 "metadata": {
  "kernelspec": {
   "display_name": "Python 3",
   "language": "python",
   "name": "python3"
  },
  "language_info": {
   "codemirror_mode": {
    "name": "ipython",
    "version": 3
   },
   "file_extension": ".py",
   "mimetype": "text/x-python",
   "name": "python",
   "nbconvert_exporter": "python",
   "pygments_lexer": "ipython3",
   "version": "3.7.12"
  },
  "papermill": {
   "default_parameters": {},
   "duration": 39.62484,
   "end_time": "2022-03-08T17:28:06.240717",
   "environment_variables": {},
   "exception": null,
   "input_path": "__notebook__.ipynb",
   "output_path": "__notebook__.ipynb",
   "parameters": {},
   "start_time": "2022-03-08T17:27:26.615877",
   "version": "2.3.3"
  }
 },
 "nbformat": 4,
 "nbformat_minor": 5
}
